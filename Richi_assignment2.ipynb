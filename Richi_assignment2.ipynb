{
  "nbformat": 4,
  "nbformat_minor": 0,
  "metadata": {
    "colab": {
      "provenance": []
    },
    "kernelspec": {
      "name": "python3",
      "display_name": "Python 3"
    },
    "language_info": {
      "name": "python"
    }
  },
  "cells": [
    {
      "cell_type": "markdown",
      "source": [
        "# **Assignment 2**:\n",
        "1. Buatlah notebook file dengan format <nama_assignment2.ipynb> yang berisi sebuah function untuk :\n",
        "  * Mereturn angka disuatu posisi berdasarkan bilangan pertama dari sebuah daftar angka-angka.\n",
        "  * Urutan posisi dimulai dari bilangan kedua.\n",
        "  * Jika bilangan pertama melebihi jumlah banyaknya daftar angka-angka, maka return **-1**.\n",
        "  * Input : daftar angka\n",
        "\n",
        "| No | Input | Output |\n",
        "| - | - | - |\n",
        "| 1 | (3, 10, 20, 30, 40) | 40 |\n",
        "| 2 | (0, -10, 10)| -10 |\n",
        "| 3 | (1, 2, 300, 10) | 300 |\n",
        "| 4 | (100, 200, 300, -400) | -1 |\n",
        "| 5 | (4, 200, 300, -400) | -1 |\n",
        "\n",
        "\n",
        "2. Buat module Python bernama `rumus.py` yang berisi dua fungsi: satu untuk menghitung luas segitiga dan satu lagi untuk menghitung keliling segitiga. Gunakan module tersebut di notebook utama (pada soal no 1).\n",
        "\n",
        "Submit dilakukan dalam bentuk mengirimkan link github repository (public) ke google form."
      ],
      "metadata": {
        "id": "TKpxcRRudjBM"
      }
    },
    {
      "cell_type": "markdown",
      "source": [
        "---\n",
        "$$-- END --$$\n",
        "___"
      ],
      "metadata": {
        "id": "zLGyJ4D0akeQ"
      }
    },
    {
      "cell_type": "code",
      "source": [
        "\n",
        "def daftar_angka(num):\n",
        "  i = num[0] + 1\n",
        "  if i >= len(num):\n",
        "    return -1\n",
        "\n",
        "  return num[i]\n",
        "num1 = (3, 10, 20, 30, 40)\n",
        "num2 = (0,-10,10)\n",
        "num3 = (1,2,300,10)\n",
        "num4 = (100,200,300,-400)\n",
        "num5 = (4,200,300,-400)\n",
        "print(daftar_angka(num1))\n",
        "print(daftar_angka(num2))\n",
        "print(daftar_angka(num3))\n",
        "print(daftar_angka(num4))\n",
        "print(daftar_angka(num5))"
      ],
      "metadata": {
        "colab": {
          "base_uri": "https://localhost:8080/"
        },
        "id": "1ibygggT_4mT",
        "outputId": "d6531d18-6c9f-43bf-9a79-2c9b080c5ab6"
      },
      "execution_count": null,
      "outputs": [
        {
          "output_type": "stream",
          "name": "stdout",
          "text": [
            "40\n",
            "-10\n",
            "300\n",
            "-1\n",
            "-1\n"
          ]
        }
      ]
    },
    {
      "cell_type": "code",
      "source": [
        "from rumus import luas, keliling"
      ],
      "metadata": {
        "id": "LUAIAPM5_5Hq"
      },
      "execution_count": null,
      "outputs": []
    },
    {
      "cell_type": "code",
      "source": [
        "alas = 7\n",
        "tinggi = 5\n",
        "sisi = 6\n",
        "\n",
        "print(luas(alas,tinggi))\n",
        "print(keliling(sisi,sisi,sisi))"
      ],
      "metadata": {
        "colab": {
          "base_uri": "https://localhost:8080/"
        },
        "id": "mqL0d6qmALmW",
        "outputId": "627e0e46-c86b-40c5-c9da-ebab78bdae73"
      },
      "execution_count": null,
      "outputs": [
        {
          "output_type": "stream",
          "name": "stdout",
          "text": [
            "35\n",
            "18\n"
          ]
        }
      ]
    }
  ]
}